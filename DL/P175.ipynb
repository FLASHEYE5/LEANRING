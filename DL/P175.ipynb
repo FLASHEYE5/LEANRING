{
 "cells": [
  {
   "cell_type": "code",
   "execution_count": 2,
   "metadata": {},
   "outputs": [
    {
     "name": "stdout",
     "output_type": "stream",
     "text": [
      "Execution time: 0.021198 seconds\n"
     ]
    }
   ],
   "source": [
    "import timeit  \n",
    "  \n",
    "# 测试代码  \n",
    "def test_code():  \n",
    "    sum = 0  \n",
    "    for i in range(1000000):  \n",
    "        sum += i  \n",
    "    return sum  \n",
    "  \n",
    "# 测试并打印执行时间  \n",
    "execution_time = timeit.timeit(test_code, number=1)  # number=1 表示只执行一次测试  \n",
    "print(f\"Execution time: {execution_time:.6f} seconds\")"
   ]
  }
 ],
 "metadata": {
  "kernelspec": {
   "display_name": "Python 3",
   "language": "python",
   "name": "python3"
  },
  "language_info": {
   "codemirror_mode": {
    "name": "ipython",
    "version": 3
   },
   "file_extension": ".py",
   "mimetype": "text/x-python",
   "name": "python",
   "nbconvert_exporter": "python",
   "pygments_lexer": "ipython3",
   "version": "3.12.6"
  }
 },
 "nbformat": 4,
 "nbformat_minor": 2
}
